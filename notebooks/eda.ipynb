{
 "cells": [
  {
   "cell_type": "code",
   "execution_count": null,
   "metadata": {
    "vscode": {
     "languageId": "plaintext"
    }
   },
   "outputs": [],
   "source": [
    "import pandas as pd\n",
    "import matplotlib.pyplot as plt\n",
    "import seaborn as sns\n",
    "\n",
    "# Load the data\n",
    "data = pd.read_csv('../data/xdr_data.csv')\n",
    "\n",
    "# Overview\n",
    "print(data.info())\n",
    "print(data.describe())\n",
    "\n",
    "# Check for missing values\n",
    "print(data.isnull().sum())\n",
    "\n",
    "# Visualization\n",
    "sns.heatmap(data.isnull(), cbar=False, cmap='viridis')\n",
    "plt.title(\"Missing Values Heatmap\")\n",
    "plt.show()\n"
   ]
  },
  {
   "cell_type": "markdown",
   "metadata": {},
   "source": [
    "# Top 10 handsets\n",
    "top_handsets = data['Handset Type'].value_counts().head(10)\n",
    "print(\"Top 10 Handsets:\\n\", top_handsets)\n",
    "\n",
    "# Top 3 manufacturers\n",
    "top_manufacturers = data['Handset Manufacturer'].value_counts().head(3)\n",
    "print(\"Top 3 Manufacturers:\\n\", top_manufacturers)\n",
    "\n",
    "# Top 5 handsets per manufacturer\n",
    "for manufacturer in top_manufacturers.index:\n",
    "    handsets = data[data['Handset Manufacturer'] == manufacturer]['Handset Type']\n",
    "    print(f\"Top 5 Handsets for {manufacturer}:\\n\", handsets.value_counts().head(5))\n"
   ]
  }
 ],
 "metadata": {
  "language_info": {
   "name": "python"
  },
  "orig_nbformat": 4
 },
 "nbformat": 4,
 "nbformat_minor": 2
}
